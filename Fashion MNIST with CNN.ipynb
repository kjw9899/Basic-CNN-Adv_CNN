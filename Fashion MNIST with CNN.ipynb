{
 "cells": [
  {
   "cell_type": "markdown",
   "id": "personal-portugal",
   "metadata": {},
   "source": [
    "## Data Preparation"
   ]
  },
  {
   "cell_type": "code",
   "execution_count": 50,
   "id": "banner-essence",
   "metadata": {},
   "outputs": [
    {
     "name": "stdout",
     "output_type": "stream",
     "text": [
      "mkdir: `result1' 디렉토리를 만들 수 없습니다: 파일이 있습니다\n",
      "'Fashion MNIST with CNN.ipynb'\t result1   results   resultss\n"
     ]
    }
   ],
   "source": [
    "!mkdir result1\n",
    "!ls\n",
    "!ls result1"
   ]
  },
  {
   "cell_type": "code",
   "execution_count": 33,
   "id": "recovered-discovery",
   "metadata": {},
   "outputs": [],
   "source": [
    "import torch\n",
    "import torchvision\n",
    "import torchvision.transforms as transforms\n",
    "import torch.nn as nn\n",
    "import torch.nn.functional as F\n",
    "import torch.optim as optim\n",
    "import argparse\n",
    "import numpy as np\n",
    "import matplotlib.pyplot as plt\n",
    "import time\n",
    "from copy import deepcopy # Add Deepcopy for args\n",
    "import torch\n",
    "from torchvision import datasets, transforms"
   ]
  },
  {
   "cell_type": "code",
   "execution_count": 34,
   "id": "favorite-document",
   "metadata": {},
   "outputs": [],
   "source": [
    "# Define a transform to nomalize the data\n",
    "transform = transforms.Compose([transforms.ToTensor(),\n",
    "                                transforms.Normalize((0.5), (0.5))])\n",
    "\n",
    "# Download and load the training data\n",
    "trainset = datasets.FashionMNIST('~/.pytorch/F_MNIST_data/', download=True, train=True, transform=transform)\n",
    "\n",
    "#Split trainset to trainset and validationset\n",
    "trainset, valset = torch.utils.data.random_split(trainset,[50000,10000])\n",
    "\n",
    "# Download and load the test data\n",
    "testset = datasets.FashionMNIST('~/.pytorch/F_MNIST_data/', download=True, train=False, transform=transform)\n",
    "partition={'train':trainset, 'val':valset, 'test':testset}"
   ]
  },
  {
   "cell_type": "markdown",
   "id": "known-small",
   "metadata": {},
   "source": [
    "## Dataset Checking"
   ]
  },
  {
   "cell_type": "code",
   "execution_count": 35,
   "id": "activated-surfing",
   "metadata": {},
   "outputs": [
    {
     "name": "stdout",
     "output_type": "stream",
     "text": [
      "torch.Size([1, 28, 28]) 9\n",
      "torch.Size([28, 28, 1])\n"
     ]
    },
    {
     "data": {
      "image/png": "[encoded data removed]",
      "text/plain": [
       "<Figure size 432x288 with 1 Axes>"
      ]
     },
     "metadata": {
      "needs_background": "light"
     },
     "output_type": "display_data"
    }
   ],
   "source": [
    "for i,j in testset:\n",
    "    print(i.shape,j)\n",
    "    i=i.transpose(0,2)\n",
    "    print(i.shape)\n",
    "    i=np.array(i)\n",
    "    plt.imshow(i)\n",
    "    break"
   ]
  },
  {
   "cell_type": "code",
   "execution_count": 36,
   "id": "posted-conditions",
   "metadata": {},
   "outputs": [
    {
     "name": "stdout",
     "output_type": "stream",
     "text": [
      "image indices: [ 2732 43567 42613 45891 21243 30403 32103 41993]\n",
      "torch.Size([3, 59, 117])\n"
     ]
    },
    {
     "name": "stderr",
     "output_type": "stream",
     "text": [
      "Clipping input data to the valid range for imshow with RGB data ([0..1] for floats or [0..255] for integers).\n"
     ]
    },
    {
     "data": {
      "image/png": "[encoded data removed]",
      "text/plain": [
       "<Figure size 720x720 with 1 Axes>"
      ]
     },
     "metadata": {
      "needs_background": "light"
     },
     "output_type": "display_data"
    }
   ],
   "source": [
    "from torchvision import utils\n",
    "import matplotlib.pyplot as plt\n",
    "import numpy as np\n",
    "%matplotlib inline\n",
    "\n",
    "np.random.seed(0)\n",
    "\n",
    "# define helper function\n",
    "def show(img, y=None, color=True):\n",
    "    npimg = img.numpy()\n",
    "    npimg_tr = np.transpose(npimg, (1,2,0))\n",
    "\n",
    "    plt.imshow(npimg_tr)\n",
    "    if y is not None:\n",
    "        plt.title('labels: ' + str(np.array(y)))\n",
    "\n",
    "# pick random samples\n",
    "grid_size = 8\n",
    "rnd_inds = np.random.randint(0, len(trainset), grid_size)\n",
    "print('image indices:', rnd_inds)\n",
    "\n",
    "# create a grid from the sample images\n",
    "x_grid = [trainset[i][0] for i in rnd_inds]\n",
    "y_grid = [trainset[i][1] for i in rnd_inds]\n",
    "\n",
    "x_grid = utils.make_grid(x_grid, nrow=4, padding=1)\n",
    "print(x_grid.shape)\n",
    "\n",
    "plt.figure(figsize=(10.0, 10.0))\n",
    "show(x_grid, y_grid)"
   ]
  },
  {
   "cell_type": "markdown",
   "id": "demographic-plain",
   "metadata": {},
   "source": [
    "## Model Architecture"
   ]
  },
  {
   "cell_type": "code",
   "execution_count": 37,
   "id": "significant-certification",
   "metadata": {},
   "outputs": [],
   "source": [
    "class CNN(nn.Module):\n",
    "    def __init__(self,):\n",
    "        super(CNN, self).__init__()\n",
    "        \n",
    "        self.conv1=nn.Conv2d(1,32,5,1,2)\n",
    "        self.conv2=nn.Conv2d(32,64,5,1,2)\n",
    "        self.conv3=nn.Conv2d(64,128,5,1,2)\n",
    "        self.fc1=nn.Linear(6272,1000)\n",
    "        self.fc2=nn.Linear(1000,10)\n",
    "        \n",
    "        self.maxpool=nn.MaxPool2d(2,2)\n",
    "        self.act=nn.ReLU()\n",
    "        self.dropout=nn.Dropout(0.4)\n",
    "        \n",
    "        \n",
    "    def forward(self,x):\n",
    "        x=self.conv1(x)\n",
    "        x=self.act(x)\n",
    "        x=self.conv2(x)\n",
    "        x=self.act(x)\n",
    "        x=self.maxpool(x)\n",
    "        x=self.conv3(x)\n",
    "        x=self.act(x)\n",
    "        x=self.maxpool(x)\n",
    "        x=x.view(x.size(0),-1)\n",
    "        x=self.dropout(x)\n",
    "        x=self.fc1(x)\n",
    "        x=self.fc2(x)\n",
    "        \n",
    "        return x"
   ]
  },
  {
   "cell_type": "markdown",
   "id": "economic-label",
   "metadata": {},
   "source": [
    "##  dimension_check"
   ]
  },
  {
   "cell_type": "code",
   "execution_count": 38,
   "id": "scheduled-television",
   "metadata": {},
   "outputs": [],
   "source": [
    "def dimension_check():\n",
    "    net=CNN()\n",
    "    x=torch.randn(1,1,28,28)\n",
    "    y=net(x)\n",
    "    print(y.shape)"
   ]
  },
  {
   "cell_type": "code",
   "execution_count": 39,
   "id": "soviet-sussex",
   "metadata": {},
   "outputs": [
    {
     "name": "stdout",
     "output_type": "stream",
     "text": [
      "torch.Size([1, 10])\n"
     ]
    }
   ],
   "source": [
    "dimension_check()"
   ]
  },
  {
   "cell_type": "markdown",
   "id": "bearing-union",
   "metadata": {},
   "source": [
    "## Train, Validation, Test and Experiment"
   ]
  },
  {
   "cell_type": "code",
   "execution_count": 40,
   "id": "opposed-walter",
   "metadata": {},
   "outputs": [],
   "source": [
    "def train(net, partition, optimizer, criterion, args):\n",
    "    trainloader = torch.utils.data.DataLoader(partition['train'], \n",
    "                                              batch_size=args.train_batch_size, \n",
    "                                              shuffle=True, num_workers=2)\n",
    "    net.train()\n",
    "\n",
    "    correct = 0\n",
    "    total = 0\n",
    "    train_loss = 0.0\n",
    "    for i, data in enumerate(trainloader, 0):\n",
    "        optimizer.zero_grad() \n",
    "\n",
    "        # get the inputs\n",
    "        inputs, labels = data\n",
    "        inputs = inputs.cuda()\n",
    "        labels = labels.cuda()\n",
    "        outputs = net(inputs)\n",
    "\n",
    "        loss = criterion(outputs, labels)\n",
    "        loss.backward()\n",
    "        optimizer.step()\n",
    "\n",
    "        train_loss += loss.item()\n",
    "        _, predicted = torch.max(outputs.data, 1)\n",
    "        total += labels.size(0)\n",
    "        correct += (predicted == labels).sum().item()\n",
    "\n",
    "    train_loss = train_loss / len(trainloader)\n",
    "    train_acc = 100 * correct / total\n",
    "    return net, train_loss, train_acc"
   ]
  },
  {
   "cell_type": "code",
   "execution_count": 41,
   "id": "greek-walker",
   "metadata": {},
   "outputs": [],
   "source": [
    "def validate(net, partition, criterion, args):\n",
    "    valloader = torch.utils.data.DataLoader(partition['val'], \n",
    "                                            batch_size=args.test_batch_size, \n",
    "                                            shuffle=False, num_workers=2)\n",
    "    net.eval()\n",
    "\n",
    "    correct = 0\n",
    "    total = 0\n",
    "    val_loss = 0 \n",
    "    with torch.no_grad():\n",
    "        for data in valloader:\n",
    "            images, labels = data\n",
    "            images = images.cuda()\n",
    "            labels = labels.cuda()\n",
    "            outputs = net(images)\n",
    "\n",
    "            loss = criterion(outputs, labels)\n",
    "            \n",
    "            val_loss += loss.item()\n",
    "            _, predicted = torch.max(outputs.data, 1)\n",
    "            total += labels.size(0)\n",
    "            correct += (predicted == labels).sum().item()\n",
    "\n",
    "        val_loss = val_loss / len(valloader)\n",
    "        val_acc = 100 * correct / total\n",
    "    return val_loss, val_acc"
   ]
  },
  {
   "cell_type": "code",
   "execution_count": 42,
   "id": "signed-appointment",
   "metadata": {},
   "outputs": [],
   "source": [
    "def test(net, partition, args):\n",
    "    testloader = torch.utils.data.DataLoader(partition['test'], \n",
    "                                             batch_size=args.test_batch_size, \n",
    "                                             shuffle=False, num_workers=2)\n",
    "    net.eval()\n",
    "    \n",
    "    correct = 0\n",
    "    total = 0\n",
    "    with torch.no_grad():\n",
    "        for data in testloader:\n",
    "            images, labels = data\n",
    "            images = images.cuda()\n",
    "            labels = labels.cuda()\n",
    "\n",
    "            outputs = net(images)\n",
    "            _, predicted = torch.max(outputs.data, 1)\n",
    "            total += labels.size(0)\n",
    "            correct += (predicted == labels).sum().item()\n",
    "\n",
    "        test_acc = 100 * correct / total\n",
    "    return test_acc"
   ]
  },
  {
   "cell_type": "code",
   "execution_count": 43,
   "id": "higher-honey",
   "metadata": {},
   "outputs": [],
   "source": [
    "def experiment(partition, args):\n",
    "  \n",
    "    net = CNN()\n",
    "    net.cuda()\n",
    "\n",
    "    criterion = nn.CrossEntropyLoss()\n",
    "    if args.optim == 'SGD':\n",
    "        optimizer = optim.SGD(net.parameters(), lr=args.lr, weight_decay=args.l2)\n",
    "    elif args.optim == 'RMSprop':\n",
    "        optimizer = optim.RMSprop(net.parameters(), lr=args.lr, weight_decay=args.l2)\n",
    "    elif args.optim == 'Adam':\n",
    "        optimizer = optim.Adam(net.parameters(), lr=args.lr, weight_decay=args.l2)\n",
    "    else:\n",
    "        raise ValueError('In-valid optimizer choice')\n",
    "    \n",
    "    train_losses = []\n",
    "    val_losses = []\n",
    "    train_accs = []\n",
    "    val_accs = []\n",
    "        \n",
    "    for epoch in range(args.epoch):  # loop over the dataset multiple times\n",
    "        ts = time.time()\n",
    "        net, train_loss, train_acc = train(net, partition, optimizer, criterion, args)\n",
    "        val_loss, val_acc = validate(net, partition, criterion, args)\n",
    "        te = time.time()\n",
    "        \n",
    "        train_losses.append(train_loss)\n",
    "        val_losses.append(val_loss)\n",
    "        train_accs.append(train_acc)\n",
    "        val_accs.append(val_acc)\n",
    "        \n",
    "        print('Epoch {}, Acc(train/val): {:2.2f}/{:2.2f}, Loss(train/val) {:2.2f}/{:2.2f}. Took {:2.2f} sec'.format(epoch, train_acc, val_acc, train_loss, val_loss, te-ts))\n",
    "        \n",
    "    test_acc = test(net, partition, args)    \n",
    "    \n",
    "    result = {}\n",
    "    result['train_losses'] = train_losses\n",
    "    result['val_losses'] = val_losses\n",
    "    result['train_accs'] = train_accs\n",
    "    result['val_accs'] = val_accs\n",
    "    result['train_acc'] = train_acc\n",
    "    result['val_acc'] = val_acc\n",
    "    result['test_acc'] = test_acc\n",
    "    return vars(args), result"
   ]
  },
  {
   "cell_type": "code",
   "execution_count": 51,
   "id": "accredited-lighting",
   "metadata": {},
   "outputs": [],
   "source": [
    "import hashlib\n",
    "import json\n",
    "from os import listdir\n",
    "from os.path import isfile, join\n",
    "import pandas as pd\n",
    "\n",
    "def save_exp_result(setting, result):\n",
    "    exp_name = setting['exp_name']\n",
    "    del setting['epoch']\n",
    "    del setting['test_batch_size'] ## epoch, batch_size는 실험에 영향을 미치지 않는 변수이기 때문에 삭제\n",
    "\n",
    "    hash_key = hashlib.sha1(str(setting).encode()).hexdigest()[:6]\n",
    "    filename = './result1/{}-{}.json'.format(exp_name, hash_key)\n",
    "    result.update(setting) ## result라는 dic에 setting도 합치기 위함\n",
    "    with open(filename, 'w') as f:\n",
    "        json.dump(result, f)\n",
    "\n",
    "    \n",
    "def load_exp_result(exp_name):\n",
    "    dir_path = './results'\n",
    "    filenames = [f for f in listdir(dir_path) if isfile(join(dir_path, f)) if '.json' in f]\n",
    "    list_result = []\n",
    "    for filename in filenames:\n",
    "        if exp_name in filename:\n",
    "            with open(join(dir_path, filename), 'r') as infile:\n",
    "                results = json.load(infile)\n",
    "                list_result.append(results)\n",
    "    df = pd.DataFrame(list_result) # .drop(columns=[])\n",
    "    return df"
   ]
  },
  {
   "cell_type": "code",
   "execution_count": 52,
   "id": "deluxe-intent",
   "metadata": {},
   "outputs": [
    {
     "name": "stdout",
     "output_type": "stream",
     "text": [
      "mkdir: `resultss' 디렉토리를 만들 수 없습니다: 파일이 있습니다\n",
      "'Fashion MNIST with CNN.ipynb'\t result1   results   resultss\n"
     ]
    }
   ],
   "source": [
    "!mkdir resultss\n",
    "!ls\n",
    "!ls resultss"
   ]
  },
  {
   "cell_type": "code",
   "execution_count": 55,
   "id": "previous-tribute",
   "metadata": {},
   "outputs": [
    {
     "name": "stdout",
     "output_type": "stream",
     "text": [
      "Namespace(epoch=10, exp_name='exp1/4_lr_l2', l2=1e-05, lr=0.0015, optim='Adam', test_batch_size=1024, train_batch_size=128)\n",
      "Epoch 0, Acc(train/val): 82.37/88.89, Loss(train/val) 0.49/0.31. Took 5.75 sec\n",
      "Epoch 1, Acc(train/val): 88.71/89.49, Loss(train/val) 0.31/0.28. Took 5.74 sec\n",
      "Epoch 2, Acc(train/val): 89.83/91.03, Loss(train/val) 0.28/0.24. Took 5.78 sec\n",
      "Epoch 3, Acc(train/val): 90.81/91.34, Loss(train/val) 0.26/0.24. Took 5.79 sec\n",
      "Epoch 4, Acc(train/val): 91.34/91.73, Loss(train/val) 0.24/0.23. Took 5.81 sec\n",
      "Epoch 5, Acc(train/val): 91.87/91.61, Loss(train/val) 0.22/0.23. Took 5.81 sec\n",
      "Epoch 6, Acc(train/val): 92.11/91.83, Loss(train/val) 0.22/0.22. Took 5.84 sec\n",
      "Epoch 7, Acc(train/val): 92.79/92.62, Loss(train/val) 0.20/0.21. Took 5.83 sec\n",
      "Epoch 8, Acc(train/val): 93.15/91.60, Loss(train/val) 0.19/0.25. Took 5.85 sec\n",
      "Epoch 9, Acc(train/val): 93.19/91.79, Loss(train/val) 0.18/0.23. Took 5.89 sec\n",
      "Namespace(epoch=10, exp_name='exp1/4_lr_l2', l2=1e-05, lr=0.001, optim='Adam', test_batch_size=1024, train_batch_size=128)\n",
      "Epoch 0, Acc(train/val): 82.00/88.82, Loss(train/val) 0.50/0.30. Took 5.89 sec\n",
      "Epoch 1, Acc(train/val): 88.96/90.66, Loss(train/val) 0.30/0.26. Took 5.94 sec\n",
      "Epoch 2, Acc(train/val): 90.35/91.15, Loss(train/val) 0.27/0.24. Took 5.90 sec\n",
      "Epoch 3, Acc(train/val): 91.32/91.01, Loss(train/val) 0.24/0.25. Took 5.94 sec\n",
      "Epoch 4, Acc(train/val): 91.83/91.11, Loss(train/val) 0.22/0.23. Took 5.92 sec\n",
      "Epoch 5, Acc(train/val): 92.52/91.75, Loss(train/val) 0.21/0.23. Took 5.91 sec\n",
      "Epoch 6, Acc(train/val): 92.96/92.46, Loss(train/val) 0.19/0.21. Took 5.93 sec\n",
      "Epoch 7, Acc(train/val): 93.47/92.24, Loss(train/val) 0.18/0.21. Took 5.94 sec\n",
      "Epoch 8, Acc(train/val): 93.98/92.72, Loss(train/val) 0.17/0.20. Took 5.94 sec\n",
      "Epoch 9, Acc(train/val): 94.20/91.94, Loss(train/val) 0.16/0.23. Took 5.91 sec\n",
      "Namespace(epoch=10, exp_name='exp1/4_lr_l2', l2=5e-05, lr=0.0015, optim='Adam', test_batch_size=1024, train_batch_size=128)\n",
      "Epoch 0, Acc(train/val): 82.09/88.59, Loss(train/val) 0.50/0.30. Took 5.93 sec\n",
      "Epoch 1, Acc(train/val): 88.66/88.92, Loss(train/val) 0.31/0.30. Took 5.93 sec\n",
      "Epoch 2, Acc(train/val): 89.84/89.65, Loss(train/val) 0.28/0.29. Took 5.93 sec\n",
      "Epoch 3, Acc(train/val): 90.46/90.27, Loss(train/val) 0.26/0.27. Took 5.94 sec\n",
      "Epoch 4, Acc(train/val): 91.12/91.40, Loss(train/val) 0.24/0.24. Took 5.97 sec\n",
      "Epoch 5, Acc(train/val): 91.49/91.32, Loss(train/val) 0.23/0.24. Took 5.94 sec\n",
      "Epoch 6, Acc(train/val): 91.94/91.78, Loss(train/val) 0.22/0.23. Took 5.95 sec\n",
      "Epoch 7, Acc(train/val): 92.33/91.21, Loss(train/val) 0.21/0.24. Took 5.95 sec\n",
      "Epoch 8, Acc(train/val): 92.78/90.89, Loss(train/val) 0.20/0.25. Took 5.95 sec\n",
      "Epoch 9, Acc(train/val): 92.94/91.85, Loss(train/val) 0.19/0.23. Took 5.97 sec\n",
      "Namespace(epoch=10, exp_name='exp1/4_lr_l2', l2=5e-05, lr=0.001, optim='Adam', test_batch_size=1024, train_batch_size=128)\n",
      "Epoch 0, Acc(train/val): 82.42/88.77, Loss(train/val) 0.49/0.31. Took 5.98 sec\n",
      "Epoch 1, Acc(train/val): 88.96/90.16, Loss(train/val) 0.30/0.27. Took 6.00 sec\n",
      "Epoch 2, Acc(train/val): 90.47/91.47, Loss(train/val) 0.27/0.23. Took 6.00 sec\n",
      "Epoch 3, Acc(train/val): 91.52/91.03, Loss(train/val) 0.24/0.24. Took 5.99 sec\n",
      "Epoch 4, Acc(train/val): 92.12/92.10, Loss(train/val) 0.22/0.21. Took 5.96 sec\n",
      "Epoch 5, Acc(train/val): 92.68/91.93, Loss(train/val) 0.20/0.22. Took 6.03 sec\n",
      "Epoch 6, Acc(train/val): 92.96/91.92, Loss(train/val) 0.19/0.22. Took 5.99 sec\n",
      "Epoch 7, Acc(train/val): 93.50/92.26, Loss(train/val) 0.18/0.21. Took 5.97 sec\n",
      "Epoch 8, Acc(train/val): 93.85/92.39, Loss(train/val) 0.17/0.21. Took 5.96 sec\n",
      "Epoch 9, Acc(train/val): 94.25/92.32, Loss(train/val) 0.16/0.21. Took 5.97 sec\n"
     ]
    }
   ],
   "source": [
    "# ====== Random Seed Initialization ====== #\n",
    "seed = 123\n",
    "np.random.seed(seed)\n",
    "torch.manual_seed(seed)\n",
    "\n",
    "parser = argparse.ArgumentParser()\n",
    "args = parser.parse_args(\"\")\n",
    "args.exp_name = \"exp1/4_lr_l2\"\n",
    "\n",
    "# ====== Model Capacity ====== #\n",
    "\n",
    "# ====== Regularization ======= #\n",
    "args.l2 = 0.00001\n",
    "\n",
    "# ====== Optimizer & Training ====== #\n",
    "args.optim = 'Adam' #'RMSprop' #SGD, RMSprop, ADAM...\n",
    "args.lr = 0.0015\n",
    "args.epoch = 10\n",
    "\n",
    "args.train_batch_size = 128\n",
    "args.test_batch_size = 1024\n",
    "\n",
    "# ====== Experiment Variable ====== #\n",
    "name_var1 = 'l2'\n",
    "name_var2 = 'lr'\n",
    "list_var1 = [0.00001, 0.00005]\n",
    "list_var2 = [0.0015, 0.001]\n",
    "\n",
    "\n",
    "for var1 in list_var1:\n",
    "    for var2 in list_var2:\n",
    "        setattr(args, name_var1, var1) ## args.name_var1 = var1 과 같은 말\n",
    "        setattr(args, name_var2, var2)\n",
    "        print(args)\n",
    "                \n",
    "        setting, result = experiment(partition, deepcopy(args))\n"
   ]
  },
  {
   "cell_type": "code",
   "execution_count": 47,
   "id": "academic-fusion",
   "metadata": {},
   "outputs": [],
   "source": []
  },
  {
   "cell_type": "code",
   "execution_count": null,
   "id": "genetic-identification",
   "metadata": {},
   "outputs": [],
   "source": []
  }
 ],
 "metadata": {
  "kernelspec": {
   "display_name": "Python 3",
   "language": "python",
   "name": "python3"
  },
  "language_info": {
   "codemirror_mode": {
    "name": "ipython",
    "version": 3
   },
   "file_extension": ".py",
   "mimetype": "text/x-python",
   "name": "python",
   "nbconvert_exporter": "python",
   "pygments_lexer": "ipython3",
   "version": "3.6.12"
  }
 },
 "nbformat": 4,
 "nbformat_minor": 5
}
